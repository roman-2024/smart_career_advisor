{
 "cells": [
  {
   "cell_type": "code",
   "execution_count": 12,
   "id": "90951ea5",
   "metadata": {},
   "outputs": [],
   "source": [
    "import pandas as pd\n",
    "import warnings\n",
    "warnings.filterwarnings(\"ignore\")"
   ]
  },
  {
   "cell_type": "code",
   "execution_count": 13,
   "id": "f7d41d67",
   "metadata": {},
   "outputs": [],
   "source": [
    "data=pd.read_csv(\"F:/PROJECT_PIPELINE_MLOPS/SMART_CARRER_ADVISOR/data/Resume.csv\")"
   ]
  },
  {
   "cell_type": "code",
   "execution_count": 14,
   "id": "e8f3fb27",
   "metadata": {},
   "outputs": [
    {
     "data": {
      "text/html": [
       "<div>\n",
       "<style scoped>\n",
       "    .dataframe tbody tr th:only-of-type {\n",
       "        vertical-align: middle;\n",
       "    }\n",
       "\n",
       "    .dataframe tbody tr th {\n",
       "        vertical-align: top;\n",
       "    }\n",
       "\n",
       "    .dataframe thead th {\n",
       "        text-align: right;\n",
       "    }\n",
       "</style>\n",
       "<table border=\"1\" class=\"dataframe\">\n",
       "  <thead>\n",
       "    <tr style=\"text-align: right;\">\n",
       "      <th></th>\n",
       "      <th>Category</th>\n",
       "      <th>Resume</th>\n",
       "    </tr>\n",
       "  </thead>\n",
       "  <tbody>\n",
       "    <tr>\n",
       "      <th>0</th>\n",
       "      <td>Data Science</td>\n",
       "      <td>Skills * Programming Languages: Python (pandas...</td>\n",
       "    </tr>\n",
       "    <tr>\n",
       "      <th>1</th>\n",
       "      <td>Data Science</td>\n",
       "      <td>Education Details \\r\\nMay 2013 to May 2017 B.E...</td>\n",
       "    </tr>\n",
       "    <tr>\n",
       "      <th>2</th>\n",
       "      <td>Data Science</td>\n",
       "      <td>Areas of Interest Deep Learning, Control Syste...</td>\n",
       "    </tr>\n",
       "    <tr>\n",
       "      <th>3</th>\n",
       "      <td>Data Science</td>\n",
       "      <td>Skills â¢ R â¢ Python â¢ SAP HANA â¢ Table...</td>\n",
       "    </tr>\n",
       "    <tr>\n",
       "      <th>4</th>\n",
       "      <td>Data Science</td>\n",
       "      <td>Education Details \\r\\n MCA   YMCAUST,  Faridab...</td>\n",
       "    </tr>\n",
       "  </tbody>\n",
       "</table>\n",
       "</div>"
      ],
      "text/plain": [
       "       Category                                             Resume\n",
       "0  Data Science  Skills * Programming Languages: Python (pandas...\n",
       "1  Data Science  Education Details \\r\\nMay 2013 to May 2017 B.E...\n",
       "2  Data Science  Areas of Interest Deep Learning, Control Syste...\n",
       "3  Data Science  Skills â¢ R â¢ Python â¢ SAP HANA â¢ Table...\n",
       "4  Data Science  Education Details \\r\\n MCA   YMCAUST,  Faridab..."
      ]
     },
     "execution_count": 14,
     "metadata": {},
     "output_type": "execute_result"
    }
   ],
   "source": [
    "data.head()"
   ]
  },
  {
   "cell_type": "code",
   "execution_count": 15,
   "id": "61f5972b",
   "metadata": {},
   "outputs": [
    {
     "name": "stdout",
     "output_type": "stream",
     "text": [
      "Original Category Distribution:\n",
      "Category\n",
      "Java Developer               84\n",
      "Testing                      70\n",
      "DevOps Engineer              55\n",
      "Python Developer             48\n",
      "Web Designing                45\n",
      "HR                           44\n",
      "Hadoop                       42\n",
      "Blockchain                   40\n",
      "ETL Developer                40\n",
      "Operations Manager           40\n",
      "Data Science                 40\n",
      "Sales                        40\n",
      "Mechanical Engineer          40\n",
      "Arts                         36\n",
      "Database                     33\n",
      "Electrical Engineering       30\n",
      "Health and fitness           30\n",
      "PMO                          30\n",
      "Business Analyst             28\n",
      "DotNet Developer             28\n",
      "Automation Testing           26\n",
      "Network Security Engineer    25\n",
      "SAP Developer                24\n",
      "Civil Engineer               24\n",
      "Advocate                     20\n",
      "Name: count, dtype: int64\n",
      "\n",
      "Balanced Category Distribution (After Oversampling):\n",
      "Category\n",
      "Blockchain                   84\n",
      "Mechanical Engineer          84\n",
      "Electrical Engineering       84\n",
      "DotNet Developer             84\n",
      "ETL Developer                84\n",
      "Arts                         84\n",
      "Testing                      84\n",
      "Hadoop                       84\n",
      "SAP Developer                84\n",
      "Java Developer               84\n",
      "Operations Manager           84\n",
      "Data Science                 84\n",
      "Python Developer             84\n",
      "Civil Engineer               84\n",
      "DevOps Engineer              84\n",
      "Sales                        84\n",
      "HR                           84\n",
      "Business Analyst             84\n",
      "Health and fitness           84\n",
      "Database                     84\n",
      "Advocate                     84\n",
      "Automation Testing           84\n",
      "PMO                          84\n",
      "Web Designing                84\n",
      "Network Security Engineer    84\n",
      "Name: count, dtype: int64\n"
     ]
    }
   ],
   "source": [
    "# Check the original category distribution\n",
    "print(\"Original Category Distribution:\")\n",
    "print(data['Category'].value_counts())\n",
    "# Get the largest category size (i.e., the category with the maximum number of entries)\n",
    "max_size = data['Category'].value_counts().max()\n",
    "# Perform oversampling\n",
    "balanced_df = data.groupby('Category').apply(lambda x: x.sample(max_size, replace=True)).reset_index(drop=True)\n",
    "# Shuffle the dataset to avoid any order bias\n",
    "data = balanced_df.sample(frac=1).reset_index(drop=True)\n",
    "# Check the balanced category distribution\n",
    "print(\"\\nBalanced Category Distribution (After Oversampling):\")\n",
    "print(data['Category'].value_counts())"
   ]
  },
  {
   "cell_type": "code",
   "execution_count": 16,
   "id": "599e8f54",
   "metadata": {},
   "outputs": [],
   "source": [
    "import re\n",
    "def cleanResume(txt):\n",
    "    cleanText = re.sub('http\\S+\\s', ' ', txt)\n",
    "    cleanText = re.sub('RT|cc', ' ', cleanText)\n",
    "    cleanText = re.sub('#\\S+\\s', ' ', cleanText)\n",
    "    cleanText = re.sub('@\\S+', '  ', cleanText)  \n",
    "    cleanText = re.sub('[%s]' % re.escape(\"\"\"!\"#$%&'()*+,-./:;<=>?@[\\]^_`{|}~\"\"\"), ' ', cleanText)\n",
    "    cleanText = re.sub(r'[^\\x00-\\x7f]', ' ', cleanText) \n",
    "    cleanText = re.sub('\\s+', ' ', cleanText)\n",
    "    return cleanText\n",
    "data['Resume'] = data['Resume'].apply(lambda x: cleanResume(x))"
   ]
  },
  {
   "cell_type": "code",
   "execution_count": 17,
   "id": "9f6178e5",
   "metadata": {},
   "outputs": [
    {
     "data": {
      "text/html": [
       "<div>\n",
       "<style scoped>\n",
       "    .dataframe tbody tr th:only-of-type {\n",
       "        vertical-align: middle;\n",
       "    }\n",
       "\n",
       "    .dataframe tbody tr th {\n",
       "        vertical-align: top;\n",
       "    }\n",
       "\n",
       "    .dataframe thead th {\n",
       "        text-align: right;\n",
       "    }\n",
       "</style>\n",
       "<table border=\"1\" class=\"dataframe\">\n",
       "  <thead>\n",
       "    <tr style=\"text-align: right;\">\n",
       "      <th></th>\n",
       "      <th>Category</th>\n",
       "      <th>Resume</th>\n",
       "    </tr>\n",
       "  </thead>\n",
       "  <tbody>\n",
       "    <tr>\n",
       "      <th>0</th>\n",
       "      <td>Blockchain</td>\n",
       "      <td>SOFTWARE SKILLS Languages C C java Operating S...</td>\n",
       "    </tr>\n",
       "    <tr>\n",
       "      <th>1</th>\n",
       "      <td>Civil Engineer</td>\n",
       "      <td>PERSONAL SKILLS Passionate towards learning ne...</td>\n",
       "    </tr>\n",
       "    <tr>\n",
       "      <th>2</th>\n",
       "      <td>Web Designing</td>\n",
       "      <td>Education Details January 2016 B Sc Informatio...</td>\n",
       "    </tr>\n",
       "    <tr>\n",
       "      <th>3</th>\n",
       "      <td>PMO</td>\n",
       "      <td>AREA OF EXPE ISE PROFILE Around 10 plus years ...</td>\n",
       "    </tr>\n",
       "    <tr>\n",
       "      <th>4</th>\n",
       "      <td>Automation Testing</td>\n",
       "      <td>SKILLS Agile Methodology Scrum Kanban Extreme ...</td>\n",
       "    </tr>\n",
       "  </tbody>\n",
       "</table>\n",
       "</div>"
      ],
      "text/plain": [
       "             Category                                             Resume\n",
       "0          Blockchain  SOFTWARE SKILLS Languages C C java Operating S...\n",
       "1      Civil Engineer  PERSONAL SKILLS Passionate towards learning ne...\n",
       "2       Web Designing  Education Details January 2016 B Sc Informatio...\n",
       "3                 PMO  AREA OF EXPE ISE PROFILE Around 10 plus years ...\n",
       "4  Automation Testing  SKILLS Agile Methodology Scrum Kanban Extreme ..."
      ]
     },
     "execution_count": 17,
     "metadata": {},
     "output_type": "execute_result"
    }
   ],
   "source": [
    "data.head()"
   ]
  },
  {
   "cell_type": "code",
   "execution_count": 18,
   "id": "2d320d11",
   "metadata": {},
   "outputs": [
    {
     "name": "stdout",
     "output_type": "stream",
     "text": [
      "✅ Model, TF-IDF Vectorizer, and Label Encoder saved successfully!\n"
     ]
    }
   ],
   "source": [
    "import pandas as pd\n",
    "import re\n",
    "import nltk\n",
    "import pickle\n",
    "from sklearn.ensemble import RandomForestClassifier\n",
    "from sklearn.feature_extraction.text import TfidfVectorizer\n",
    "from sklearn.model_selection import train_test_split\n",
    "from sklearn.preprocessing import LabelEncoder\n",
    "le = LabelEncoder()\n",
    "le.fit(data['Category'])\n",
    "data['Category'] = le.transform(data['Category'])\n",
    "\n",
    "tfidf = TfidfVectorizer(stop_words='english')\n",
    "tfidf.fit(data['Resume'])\n",
    "requiredText = tfidf.transform(data['Resume'])\n",
    "\n",
    "X_train, X_test, y_train, y_test = train_test_split(requiredText, data['Category'], test_size=0.2, random_state=42)\n",
    "\n",
    "model = RandomForestClassifier()\n",
    "model.fit(X_train, y_train)\n",
    "\n",
    "model_path = 'F:\\\\PROJECT_PIPELINE_MLOPS\\\\SMART_CARRER_ADVISOR\\\\models\\\\'\n",
    "\n",
    "\n",
    "with open(model_path + 'model.pkl', 'wb') as f:\n",
    "    pickle.dump(model, f)\n",
    "\n",
    "with open(model_path + 'tfidf.pkl', 'wb') as f:\n",
    "    pickle.dump(tfidf, f)\n",
    "\n",
    "with open(model_path + 'label_encoders.pkl', 'wb') as f:\n",
    "    pickle.dump(le, f)\n",
    "\n",
    "print(\"✅ Model, TF-IDF Vectorizer, and Label Encoder saved successfully!\")\n",
    "\n",
    "\n"
   ]
  },
  {
   "cell_type": "code",
   "execution_count": 20,
   "id": "1b419180",
   "metadata": {},
   "outputs": [
    {
     "name": "stdout",
     "output_type": "stream",
     "text": [
      "✅ train Accuracy: 1.0000\n",
      "✅ test Accuracy: 1.0000\n"
     ]
    }
   ],
   "source": [
    "# text english\n",
    "# 8. Accuracy বের করা ✅\n",
    "from sklearn.metrics import accuracy_score\n",
    "train_preds = model.predict(X_train)\n",
    "test_preds = model.predict(X_test)\n",
    "\n",
    "train_acc = accuracy_score(y_train, train_preds)\n",
    "test_acc = accuracy_score(y_test, test_preds)\n",
    "\n",
    "print(f\"✅ train Accuracy: {train_acc:.4f}\")\n",
    "print(f\"✅ test Accuracy: {test_acc:.4f}\")"
   ]
  },
  {
   "cell_type": "code",
   "execution_count": 23,
   "id": "d9197673",
   "metadata": {},
   "outputs": [
    {
     "name": "stdout",
     "output_type": "stream",
     "text": [
      "✅ Classification Report:\n",
      "\n",
      "                           precision    recall  f1-score   support\n",
      "\n",
      "                 Advocate       1.00      1.00      1.00        16\n",
      "                     Arts       1.00      1.00      1.00        15\n",
      "       Automation Testing       1.00      1.00      1.00        17\n",
      "               Blockchain       1.00      1.00      1.00        20\n",
      "         Business Analyst       1.00      1.00      1.00        24\n",
      "           Civil Engineer       1.00      1.00      1.00        22\n",
      "             Data Science       1.00      1.00      1.00         9\n",
      "                 Database       1.00      1.00      1.00        15\n",
      "          DevOps Engineer       1.00      1.00      1.00        16\n",
      "         DotNet Developer       1.00      1.00      1.00        14\n",
      "            ETL Developer       1.00      1.00      1.00        18\n",
      "   Electrical Engineering       1.00      1.00      1.00        20\n",
      "                       HR       1.00      1.00      1.00        18\n",
      "                   Hadoop       1.00      1.00      1.00        20\n",
      "       Health and fitness       1.00      1.00      1.00        17\n",
      "           Java Developer       1.00      1.00      1.00        20\n",
      "      Mechanical Engineer       1.00      1.00      1.00        14\n",
      "Network Security Engineer       1.00      1.00      1.00        14\n",
      "       Operations Manager       1.00      1.00      1.00        14\n",
      "                      PMO       1.00      1.00      1.00        12\n",
      "         Python Developer       1.00      1.00      1.00        21\n",
      "            SAP Developer       1.00      1.00      1.00        13\n",
      "                    Sales       1.00      1.00      1.00        15\n",
      "                  Testing       1.00      1.00      1.00        17\n",
      "            Web Designing       1.00      1.00      1.00        19\n",
      "\n",
      "                 accuracy                           1.00       420\n",
      "                macro avg       1.00      1.00      1.00       420\n",
      "             weighted avg       1.00      1.00      1.00       420\n",
      "\n"
     ]
    }
   ],
   "source": [
    "from sklearn.metrics import classification_report\n",
    "test_preds = model.predict(X_test)\n",
    "report = classification_report(y_test, test_preds, target_names=le.classes_)\n",
    "print(\"✅ Classification Report:\\n\")\n",
    "print(report)"
   ]
  },
  {
   "cell_type": "code",
   "execution_count": 24,
   "id": "2e1afafd",
   "metadata": {},
   "outputs": [
    {
     "name": "stdout",
     "output_type": "stream",
     "text": [
      "Cross-validation scores: [1.        1.        1.        1.        0.9952381]\n",
      "Average CV Score: 0.9990476190476191\n"
     ]
    }
   ],
   "source": [
    "from sklearn.model_selection import cross_val_score\n",
    "\n",
    "scores = cross_val_score(model, requiredText, data['Category'], cv=5)\n",
    "print(\"Cross-validation scores:\", scores)\n",
    "print(\"Average CV Score:\", scores.mean())\n"
   ]
  },
  {
   "cell_type": "code",
   "execution_count": 25,
   "id": "a0127a26",
   "metadata": {},
   "outputs": [
    {
     "name": "stdout",
     "output_type": "stream",
     "text": [
      "Label Encoding Mapping:\n",
      "0: Advocate\n",
      "1: Arts\n",
      "2: Automation Testing\n",
      "3: Blockchain\n",
      "4: Business Analyst\n",
      "5: Civil Engineer\n",
      "6: Data Science\n",
      "7: Database\n",
      "8: DevOps Engineer\n",
      "9: DotNet Developer\n",
      "10: ETL Developer\n",
      "11: Electrical Engineering\n",
      "12: HR\n",
      "13: Hadoop\n",
      "14: Health and fitness\n",
      "15: Java Developer\n",
      "16: Mechanical Engineer\n",
      "17: Network Security Engineer\n",
      "18: Operations Manager\n",
      "19: PMO\n",
      "20: Python Developer\n",
      "21: SAP Developer\n",
      "22: Sales\n",
      "23: Testing\n",
      "24: Web Designing\n"
     ]
    }
   ],
   "source": [
    "label_mapping = dict(enumerate(le.classes_))\n",
    "print(\"Label Encoding Mapping:\")\n",
    "for label, category in label_mapping.items():\n",
    "    print(f\"{label}: {category}\")"
   ]
  },
  {
   "cell_type": "code",
   "execution_count": null,
   "id": "a7bbd40f",
   "metadata": {},
   "outputs": [],
   "source": []
  }
 ],
 "metadata": {
  "kernelspec": {
   "display_name": "Python 3",
   "language": "python",
   "name": "python3"
  },
  "language_info": {
   "codemirror_mode": {
    "name": "ipython",
    "version": 3
   },
   "file_extension": ".py",
   "mimetype": "text/x-python",
   "name": "python",
   "nbconvert_exporter": "python",
   "pygments_lexer": "ipython3",
   "version": "3.12.4"
  }
 },
 "nbformat": 4,
 "nbformat_minor": 5
}
